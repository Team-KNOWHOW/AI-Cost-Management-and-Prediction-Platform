{
  "nbformat": 4,
  "nbformat_minor": 0,
  "metadata": {
    "colab": {
      "name": "IncreaseData_0328.ipynb",
      "provenance": []
    },
    "kernelspec": {
      "name": "python3",
      "display_name": "Python 3"
    }
  },
  "cells": [
    {
      "cell_type": "code",
      "metadata": {
        "id": "UjsfEBKG0HAC"
      },
      "source": [
        "import pandas as pd\n",
        "import random\n",
        "df = pd.read_excel('20yDataset.xlsx')\n",
        "\n",
        "#결측치 대체\n",
        "df = df.fillna(0)\n",
        "\n",
        "#고정비3개/ \n",
        "#각각 비율마다 모든 값에 곱해주는 형식으로 데이터 만들고 나중에 합쳐주기\n",
        "# x2 = 당기투입 노무비 간접x2,당기투입 노무비 직접 고정비x2, 당기투입 제조경비 간접x2, 당기투입 제조경비 직접 고정비 기타x2, 당기투입 제조경비 직접 고정비 상각비x2\n",
        "df_1=df[[\"ic_dlfc\",\"ic_ohdfe\",\"ic_ohdfd\"]]\n",
        "\n"
      ],
      "execution_count": 129,
      "outputs": []
    },
    {
      "cell_type": "code",
      "metadata": {
        "colab": {
          "base_uri": "https://localhost:8080/"
        },
        "id": "qjeY1gM-7Xja",
        "outputId": "39283c31-cb7b-4113-e866-ef1031644123"
      },
      "source": [
        "import random\n",
        "count = 0 # 줄의 수를 파악\n",
        "m_count = 1 # 월 단위 파악\n",
        "m = 0 # 인덱스\n",
        "\n",
        "#랜덤값을 월마다 변동될 수 있도록 for 문안에서 반복할때마다 갱신처리\n",
        "while True:\n",
        "  if count == 753:\n",
        "    break\n",
        "  #3개 목록 다음에 다음달로 넘어감\n",
        "  if count%3 == 0:\n",
        "    ran = random.randrange(0,2) * 2 - 1 # 홀짝(월)에 대한 양음 부여\n",
        "    m_count += 1\n",
        "  if (count >=322 and count <=357) or (count >=718 and count <=753):\n",
        "    next_month = []\n",
        "    for i in range(len(df_1.columns)):\n",
        "      p = random.uniform(0.01,0.02) # 랜덤값\n",
        "      #해당 월 금융 위기/코로나로 10%하양조정.\n",
        "      temp = df_1.values[m][i] * (1 - ((0.01 * 3 + p) * 1/12 ))\n",
        "      next_month.append(temp)\n",
        "    df_1.loc[len(df_1)] = next_month\n",
        "    count += 1\n",
        "  else:\n",
        "    next_month = []\n",
        "    for i in range(len(df_1.columns)):  \n",
        "      #홀짝수인지 확인 후 1%,2%\n",
        "      p = random.uniform(0.01,0.02) # 랜덤값\n",
        "      if m_count%2 == 1:\n",
        "        temp = df_1.values[m][i] * (1 + ((0.01 * 1 + p) * 1/12)* ran)\n",
        "        next_month.append(temp)\n",
        "      else:\n",
        "        temp = df_1.values[m][i] * (1 + ((0.01 * 2 + p) * 1/12)* ran)\n",
        "        next_month.append(temp)\n",
        "    df_1.loc[len(df_1)] = next_month\n",
        "    count += 1\n",
        "  #12월 다음 조건문 추가\n",
        "  if m_count >12:\n",
        "    m_count = 1\n",
        "  m += 1\n",
        "\n",
        "#코로나, 경제위기를 제외한 년에는 홀짝 월을 따져 random으로 증감 비율 적용이 된다. \n"
      ],
      "execution_count": 130,
      "outputs": [
        {
          "output_type": "stream",
          "text": [
            "/usr/local/lib/python3.7/dist-packages/pandas/core/indexing.py:670: SettingWithCopyWarning: \n",
            "A value is trying to be set on a copy of a slice from a DataFrame\n",
            "\n",
            "See the caveats in the documentation: https://pandas.pydata.org/pandas-docs/stable/user_guide/indexing.html#returning-a-view-versus-a-copy\n",
            "  iloc._setitem_with_indexer(indexer, value)\n"
          ],
          "name": "stderr"
        }
      ]
    },
    {
      "cell_type": "code",
      "metadata": {
        "id": "NPzzU5VkDc9B"
      },
      "source": [
        "#변동비4개/ \n",
        "#당기투입 노무비 직접 변동비, 당기투입 제조경비 직접 변동비x1, 당기 투입 노무비 간접, 당기 투입 제조경비 간접\n",
        "df_2= df[[\"ic_dlvc\",\"ic_ohdvc\",\"ic_idlc\",\"ic_idohc\"]]"
      ],
      "execution_count": 131,
      "outputs": []
    },
    {
      "cell_type": "code",
      "metadata": {
        "colab": {
          "base_uri": "https://localhost:8080/"
        },
        "id": "9dpQ_1xVECbp",
        "outputId": "e8433591-c682-4b9a-b604-6b3cb59545df"
      },
      "source": [
        "count = 0 # 줄의 수를 파악\n",
        "m_count = 1 # 월 단위 파악\n",
        "m = 0 # 인덱스\n",
        "while True:\n",
        "  if count == 753:\n",
        "    break\n",
        "  #3개 목록 다음에 다음달로 넘어감\n",
        "  if count%3 == 0:\n",
        "    ran = random.randrange(0,2) * 2 - 1 # 홀짝(월)에 대한 양음 부여\n",
        "    m_count += 1\n",
        "  if (count >=322 and count <=357) or (count >=718 and count <=753):\n",
        "    next_month = []\n",
        "    for i in range(len(df_2.columns)):\n",
        "      p = random.uniform(0.01,0.02) # 랜덤값\n",
        "      #해당 월 금융 위기/코로나로 10%하양조정.\n",
        "      temp = df_2.values[m][i] * (1 - ((0.01 * 3 + p) * 1/12))\n",
        "      next_month.append(temp)\n",
        "    df_2.loc[len(df_2)] = next_month\n",
        "    count += 1\n",
        "  else:\n",
        "    next_month = []\n",
        "    for i in range(len(df_2.columns)):\n",
        "      p = random.uniform(0.01,0.02) # 랜덤값\n",
        "      #홀짝수(월)인지 확인 후 동일 3%\n",
        "      temp = df_2.values[m][i] * (1 + ((0.01 * 3 + p) * 1/12)* ran)\n",
        "      next_month.append(temp)\n",
        "    df_2.loc[len(df_2)] = next_month\n",
        "    count += 1\n",
        "  #12월 다음 조건문 추가\n",
        "  if m_count >12:\n",
        "    m_count = 1\n",
        "  m += 1"
      ],
      "execution_count": 132,
      "outputs": [
        {
          "output_type": "stream",
          "text": [
            "/usr/local/lib/python3.7/dist-packages/pandas/core/indexing.py:670: SettingWithCopyWarning: \n",
            "A value is trying to be set on a copy of a slice from a DataFrame\n",
            "\n",
            "See the caveats in the documentation: https://pandas.pydata.org/pandas-docs/stable/user_guide/indexing.html#returning-a-view-versus-a-copy\n",
            "  iloc._setitem_with_indexer(indexer, value)\n"
          ],
          "name": "stderr"
        }
      ]
    },
    {
      "cell_type": "code",
      "metadata": {
        "id": "7btzZJbeEdGF"
      },
      "source": [
        "#수량,단가\n",
        "#생산량, 배부기준 생산액 단위당\n",
        "df_3 = df[[\"proq\", \"proamt_unit\"]]"
      ],
      "execution_count": 133,
      "outputs": []
    },
    {
      "cell_type": "code",
      "metadata": {
        "colab": {
          "base_uri": "https://localhost:8080/"
        },
        "id": "R0VskpmlFYus",
        "outputId": "a53917f5-c4bf-46d6-c935-ecf206e86f1d"
      },
      "source": [
        "count = 0 # 줄의 수를 파악\n",
        "m_count = 1 # 월 단위 파악\n",
        "m = 0 # 인덱스\n",
        "while True:\n",
        "  if count == 753:\n",
        "    break\n",
        "  #3개 목록 다음에 다음달로 넘어감\n",
        "  if count%3 == 0:\n",
        "    ran = random.randrange(0,2) * 2 - 1 # 홀짝(월)에 대한 양음 부여\n",
        "    m_count += 1\n",
        "  if (count >=322 and count <=357) or (count >=718 and count <=753):\n",
        "    next_month = []\n",
        "    for i in range(len(df_3.columns)):\n",
        "      p = random.uniform(0.01,0.02) # 랜덤값\n",
        "      #해당 월 금융 위기/코로나로 10%하양조정.\n",
        "      temp = df_3.values[m][i] * (1 - ((0.01 * 3 + p) * 1/12))\n",
        "      next_month.append(temp)\n",
        "    df_3.loc[len(df_3)] = next_month\n",
        "    count += 1\n",
        "  else:\n",
        "    next_month = []\n",
        "    for i in range(len(df_3.columns)):\n",
        "      p = random.uniform(0.01,0.02) # 랜덤값\n",
        "     #홀짝수인지 확인 후 2.5%,3%\n",
        "      if m_count%2 == 1:\n",
        "        temp = df_3.values[m][i] * (1 + ((0.01 * 2.5 + p) * 1/12)* ran)\n",
        "        next_month.append(temp)\n",
        "      else:\n",
        "        temp = df_3.values[m][i] * (1 + ((0.01 * 3 + p) * 1/12)* ran)\n",
        "        next_month.append(temp)\n",
        "    df_3.loc[len(df_3)] = next_month\n",
        "    count += 1\n",
        "  #12월 다음 조건문 추가\n",
        "  if m_count >12:\n",
        "    m_count = 1\n",
        "  m += 1"
      ],
      "execution_count": 134,
      "outputs": [
        {
          "output_type": "stream",
          "text": [
            "/usr/local/lib/python3.7/dist-packages/pandas/core/indexing.py:670: SettingWithCopyWarning: \n",
            "A value is trying to be set on a copy of a slice from a DataFrame\n",
            "\n",
            "See the caveats in the documentation: https://pandas.pydata.org/pandas-docs/stable/user_guide/indexing.html#returning-a-view-versus-a-copy\n",
            "  iloc._setitem_with_indexer(indexer, value)\n"
          ],
          "name": "stderr"
        }
      ]
    },
    {
      "cell_type": "markdown",
      "metadata": {
        "id": "m8iotcCLKcBD"
      },
      "source": [
        "그럼, 지금까지 고정비, 변동비, 수량, 단가 increased"
      ]
    },
    {
      "cell_type": "code",
      "metadata": {
        "id": "ORczpMtTKXX8"
      },
      "source": [
        "#재료비 uc_srw"
      ],
      "execution_count": null,
      "outputs": []
    },
    {
      "cell_type": "code",
      "metadata": {
        "colab": {
          "base_uri": "https://localhost:8080/",
          "height": 142
        },
        "id": "MRreTXsPK4SN",
        "outputId": "d5a86615-c76a-495c-b444-6e5ed413e35a"
      },
      "source": [
        "df_4 = df[[\"uc_srw\"]]\n",
        "df_4"
      ],
      "execution_count": 135,
      "outputs": [
        {
          "output_type": "execute_result",
          "data": {
            "text/html": [
              "<div>\n",
              "<style scoped>\n",
              "    .dataframe tbody tr th:only-of-type {\n",
              "        vertical-align: middle;\n",
              "    }\n",
              "\n",
              "    .dataframe tbody tr th {\n",
              "        vertical-align: top;\n",
              "    }\n",
              "\n",
              "    .dataframe thead th {\n",
              "        text-align: right;\n",
              "    }\n",
              "</style>\n",
              "<table border=\"1\" class=\"dataframe\">\n",
              "  <thead>\n",
              "    <tr style=\"text-align: right;\">\n",
              "      <th></th>\n",
              "      <th>uc_srw</th>\n",
              "    </tr>\n",
              "  </thead>\n",
              "  <tbody>\n",
              "    <tr>\n",
              "      <th>0</th>\n",
              "      <td>52044552</td>\n",
              "    </tr>\n",
              "    <tr>\n",
              "      <th>1</th>\n",
              "      <td>250909246</td>\n",
              "    </tr>\n",
              "    <tr>\n",
              "      <th>2</th>\n",
              "      <td>21339553</td>\n",
              "    </tr>\n",
              "  </tbody>\n",
              "</table>\n",
              "</div>"
            ],
            "text/plain": [
              "      uc_srw\n",
              "0   52044552\n",
              "1  250909246\n",
              "2   21339553"
            ]
          },
          "metadata": {
            "tags": []
          },
          "execution_count": 135
        }
      ]
    },
    {
      "cell_type": "code",
      "metadata": {
        "colab": {
          "base_uri": "https://localhost:8080/"
        },
        "id": "r2RAlfasKzui",
        "outputId": "f9f53838-7aa1-406e-ed46-8008a7176fef"
      },
      "source": [
        "count = 0 # 줄의 수를 파악\n",
        "m_count = 1 # 월 단위 파악\n",
        "m = 0 # 인덱스\n",
        "while True:\n",
        "  if count == 753:\n",
        "    break\n",
        "  #3개 목록 다음에 다음달로 넘어감\n",
        "  if count%3 == 0:\n",
        "    ran = random.randrange(0,2) * 2 - 1 # 홀짝(월)에 대한 양음 부여\n",
        "    m_count += 1\n",
        "  if (count >=322 and count <=357) or (count >=718 and count <=753):\n",
        "    next_month = []\n",
        "    for i in range(len(df_4.columns)):\n",
        "      p = random.uniform(0.01,0.02) # 랜덤값\n",
        "      #해당 월 금융 위기/코로나로 10%하양조정.\n",
        "      temp = df_4.values[m][i] * (1 - ((0.01 * 3 + p) * 1/12))\n",
        "      next_month.append(temp)\n",
        "    df_4.loc[len(df_4)] = next_month\n",
        "    count += 1\n",
        "  else:\n",
        "    next_month = []\n",
        "    for i in range(len(df_4.columns)):\n",
        "      p = random.uniform(0.01,0.02) # 랜덤값\n",
        "      #홀짝수(월)인지 확인 후 동일 5%\n",
        "      temp = df_4.values[m][i] * (1 + ((0.01 * 5 + p) * 1/12)* ran)\n",
        "      next_month.append(temp)\n",
        "    df_4.loc[len(df_4)] = next_month\n",
        "    count += 1\n",
        "  #12월 다음 조건문 추가\n",
        "  if m_count >12:\n",
        "    m_count = 1"
      ],
      "execution_count": 136,
      "outputs": [
        {
          "output_type": "stream",
          "text": [
            "/usr/local/lib/python3.7/dist-packages/pandas/core/indexing.py:670: SettingWithCopyWarning: \n",
            "A value is trying to be set on a copy of a slice from a DataFrame\n",
            "\n",
            "See the caveats in the documentation: https://pandas.pydata.org/pandas-docs/stable/user_guide/indexing.html#returning-a-view-versus-a-copy\n",
            "  iloc._setitem_with_indexer(indexer, value)\n"
          ],
          "name": "stderr"
        }
      ]
    },
    {
      "cell_type": "code",
      "metadata": {
        "colab": {
          "base_uri": "https://localhost:8080/"
        },
        "id": "xyMvRSIrD3Tp",
        "outputId": "4e67aacb-3a62-4dd7-8afe-6622c0c62272"
      },
      "source": [
        "len(df_4)"
      ],
      "execution_count": 137,
      "outputs": [
        {
          "output_type": "execute_result",
          "data": {
            "text/plain": [
              "756"
            ]
          },
          "metadata": {
            "tags": []
          },
          "execution_count": 137
        }
      ]
    },
    {
      "cell_type": "code",
      "metadata": {
        "id": "bsTRckySTb9z"
      },
      "source": [
        "#반올림\n",
        "#데이터 갱신 주의!!\n",
        "df_1=df_1.round(0).astype(int)\n",
        "df_2=df_2.round(0).astype(int)\n",
        "df_3=df_3.round(0).astype(int)\n",
        "df_4=df_4.round(0).astype(int)"
      ],
      "execution_count": 138,
      "outputs": []
    },
    {
      "cell_type": "code",
      "metadata": {
        "id": "AzLx1ilm2ANs"
      },
      "source": [
        "df_1 = df_1"
      ],
      "execution_count": 82,
      "outputs": []
    },
    {
      "cell_type": "code",
      "metadata": {
        "colab": {
          "base_uri": "https://localhost:8080/",
          "height": 419
        },
        "id": "8KKnpGOj2NB5",
        "outputId": "26698a96-081e-4479-c3d9-7bab91ef7279"
      },
      "source": [
        "df_4"
      ],
      "execution_count": 118,
      "outputs": [
        {
          "output_type": "execute_result",
          "data": {
            "text/html": [
              "<div>\n",
              "<style scoped>\n",
              "    .dataframe tbody tr th:only-of-type {\n",
              "        vertical-align: middle;\n",
              "    }\n",
              "\n",
              "    .dataframe tbody tr th {\n",
              "        vertical-align: top;\n",
              "    }\n",
              "\n",
              "    .dataframe thead th {\n",
              "        text-align: right;\n",
              "    }\n",
              "</style>\n",
              "<table border=\"1\" class=\"dataframe\">\n",
              "  <thead>\n",
              "    <tr style=\"text-align: right;\">\n",
              "      <th></th>\n",
              "      <th>uc_srw</th>\n",
              "    </tr>\n",
              "  </thead>\n",
              "  <tbody>\n",
              "    <tr>\n",
              "      <th>0</th>\n",
              "      <td>52044552</td>\n",
              "    </tr>\n",
              "    <tr>\n",
              "      <th>1</th>\n",
              "      <td>250909246</td>\n",
              "    </tr>\n",
              "    <tr>\n",
              "      <th>2</th>\n",
              "      <td>21339553</td>\n",
              "    </tr>\n",
              "    <tr>\n",
              "      <th>3</th>\n",
              "      <td>52322970</td>\n",
              "    </tr>\n",
              "    <tr>\n",
              "      <th>4</th>\n",
              "      <td>52336013</td>\n",
              "    </tr>\n",
              "    <tr>\n",
              "      <th>...</th>\n",
              "      <td>...</td>\n",
              "    </tr>\n",
              "    <tr>\n",
              "      <th>751</th>\n",
              "      <td>51848094</td>\n",
              "    </tr>\n",
              "    <tr>\n",
              "      <th>752</th>\n",
              "      <td>51852505</td>\n",
              "    </tr>\n",
              "    <tr>\n",
              "      <th>753</th>\n",
              "      <td>51857977</td>\n",
              "    </tr>\n",
              "    <tr>\n",
              "      <th>754</th>\n",
              "      <td>51837088</td>\n",
              "    </tr>\n",
              "    <tr>\n",
              "      <th>755</th>\n",
              "      <td>51862597</td>\n",
              "    </tr>\n",
              "  </tbody>\n",
              "</table>\n",
              "<p>756 rows × 1 columns</p>\n",
              "</div>"
            ],
            "text/plain": [
              "        uc_srw\n",
              "0     52044552\n",
              "1    250909246\n",
              "2     21339553\n",
              "3     52322970\n",
              "4     52336013\n",
              "..         ...\n",
              "751   51848094\n",
              "752   51852505\n",
              "753   51857977\n",
              "754   51837088\n",
              "755   51862597\n",
              "\n",
              "[756 rows x 1 columns]"
            ]
          },
          "metadata": {
            "tags": []
          },
          "execution_count": 118
        }
      ]
    },
    {
      "cell_type": "code",
      "metadata": {
        "colab": {
          "base_uri": "https://localhost:8080/",
          "height": 439
        },
        "id": "oLLjOphPGSzc",
        "outputId": "0bdbf465-7b09-4943-acc2-63c168637a0f"
      },
      "source": [
        "#분리 연산된 데이터 프레임 합치기\n",
        "result = pd.concat([df_1,df_2,df_3,df_4],axis=1)\n",
        "result"
      ],
      "execution_count": 139,
      "outputs": [
        {
          "output_type": "execute_result",
          "data": {
            "text/html": [
              "<div>\n",
              "<style scoped>\n",
              "    .dataframe tbody tr th:only-of-type {\n",
              "        vertical-align: middle;\n",
              "    }\n",
              "\n",
              "    .dataframe tbody tr th {\n",
              "        vertical-align: top;\n",
              "    }\n",
              "\n",
              "    .dataframe thead th {\n",
              "        text-align: right;\n",
              "    }\n",
              "</style>\n",
              "<table border=\"1\" class=\"dataframe\">\n",
              "  <thead>\n",
              "    <tr style=\"text-align: right;\">\n",
              "      <th></th>\n",
              "      <th>ic_dlfc</th>\n",
              "      <th>ic_ohdfe</th>\n",
              "      <th>ic_ohdfd</th>\n",
              "      <th>ic_dlvc</th>\n",
              "      <th>ic_ohdvc</th>\n",
              "      <th>ic_idlc</th>\n",
              "      <th>ic_idohc</th>\n",
              "      <th>proq</th>\n",
              "      <th>proamt_unit</th>\n",
              "      <th>uc_srw</th>\n",
              "    </tr>\n",
              "  </thead>\n",
              "  <tbody>\n",
              "    <tr>\n",
              "      <th>0</th>\n",
              "      <td>5490412</td>\n",
              "      <td>280799</td>\n",
              "      <td>869822</td>\n",
              "      <td>0</td>\n",
              "      <td>2503700</td>\n",
              "      <td>930183</td>\n",
              "      <td>921941</td>\n",
              "      <td>2880</td>\n",
              "      <td>26470</td>\n",
              "      <td>52044552</td>\n",
              "    </tr>\n",
              "    <tr>\n",
              "      <th>1</th>\n",
              "      <td>33871013</td>\n",
              "      <td>1732282</td>\n",
              "      <td>5366038</td>\n",
              "      <td>0</td>\n",
              "      <td>15445629</td>\n",
              "      <td>4334581</td>\n",
              "      <td>4296172</td>\n",
              "      <td>16639</td>\n",
              "      <td>21350</td>\n",
              "      <td>250909246</td>\n",
              "    </tr>\n",
              "    <tr>\n",
              "      <th>2</th>\n",
              "      <td>2957785</td>\n",
              "      <td>151271</td>\n",
              "      <td>468589</td>\n",
              "      <td>0</td>\n",
              "      <td>1348789</td>\n",
              "      <td>387382</td>\n",
              "      <td>383949</td>\n",
              "      <td>1453</td>\n",
              "      <td>21850</td>\n",
              "      <td>21339553</td>\n",
              "    </tr>\n",
              "    <tr>\n",
              "      <th>3</th>\n",
              "      <td>5475547</td>\n",
              "      <td>280081</td>\n",
              "      <td>867602</td>\n",
              "      <td>0</td>\n",
              "      <td>2513158</td>\n",
              "      <td>933844</td>\n",
              "      <td>925145</td>\n",
              "      <td>2870</td>\n",
              "      <td>26377</td>\n",
              "      <td>52327414</td>\n",
              "    </tr>\n",
              "    <tr>\n",
              "      <th>4</th>\n",
              "      <td>33769186</td>\n",
              "      <td>1726559</td>\n",
              "      <td>5352083</td>\n",
              "      <td>0</td>\n",
              "      <td>15497155</td>\n",
              "      <td>4352432</td>\n",
              "      <td>4312449</td>\n",
              "      <td>16572</td>\n",
              "      <td>21268</td>\n",
              "      <td>52327098</td>\n",
              "    </tr>\n",
              "    <tr>\n",
              "      <th>...</th>\n",
              "      <td>...</td>\n",
              "      <td>...</td>\n",
              "      <td>...</td>\n",
              "      <td>...</td>\n",
              "      <td>...</td>\n",
              "      <td>...</td>\n",
              "      <td>...</td>\n",
              "      <td>...</td>\n",
              "      <td>...</td>\n",
              "      <td>...</td>\n",
              "    </tr>\n",
              "    <tr>\n",
              "      <th>751</th>\n",
              "      <td>31426223</td>\n",
              "      <td>1620696</td>\n",
              "      <td>5001492</td>\n",
              "      <td>0</td>\n",
              "      <td>13679235</td>\n",
              "      <td>3825618</td>\n",
              "      <td>3825561</td>\n",
              "      <td>14552</td>\n",
              "      <td>18440</td>\n",
              "      <td>51861258</td>\n",
              "    </tr>\n",
              "    <tr>\n",
              "      <th>752</th>\n",
              "      <td>2745314</td>\n",
              "      <td>141275</td>\n",
              "      <td>434027</td>\n",
              "      <td>0</td>\n",
              "      <td>1195144</td>\n",
              "      <td>344662</td>\n",
              "      <td>338172</td>\n",
              "      <td>1264</td>\n",
              "      <td>18965</td>\n",
              "      <td>51829398</td>\n",
              "    </tr>\n",
              "    <tr>\n",
              "      <th>753</th>\n",
              "      <td>5109805</td>\n",
              "      <td>263726</td>\n",
              "      <td>811758</td>\n",
              "      <td>0</td>\n",
              "      <td>2209917</td>\n",
              "      <td>821286</td>\n",
              "      <td>810878</td>\n",
              "      <td>2536</td>\n",
              "      <td>23372</td>\n",
              "      <td>51833134</td>\n",
              "    </tr>\n",
              "    <tr>\n",
              "      <th>754</th>\n",
              "      <td>31296698</td>\n",
              "      <td>1614570</td>\n",
              "      <td>4981282</td>\n",
              "      <td>0</td>\n",
              "      <td>13622468</td>\n",
              "      <td>3812269</td>\n",
              "      <td>3809740</td>\n",
              "      <td>14501</td>\n",
              "      <td>18372</td>\n",
              "      <td>51850758</td>\n",
              "    </tr>\n",
              "    <tr>\n",
              "      <th>755</th>\n",
              "      <td>2734229</td>\n",
              "      <td>140802</td>\n",
              "      <td>432415</td>\n",
              "      <td>0</td>\n",
              "      <td>1191126</td>\n",
              "      <td>343484</td>\n",
              "      <td>337030</td>\n",
              "      <td>1260</td>\n",
              "      <td>18895</td>\n",
              "      <td>51858268</td>\n",
              "    </tr>\n",
              "  </tbody>\n",
              "</table>\n",
              "<p>756 rows × 10 columns</p>\n",
              "</div>"
            ],
            "text/plain": [
              "      ic_dlfc  ic_ohdfe  ic_ohdfd  ...   proq  proamt_unit     uc_srw\n",
              "0     5490412    280799    869822  ...   2880        26470   52044552\n",
              "1    33871013   1732282   5366038  ...  16639        21350  250909246\n",
              "2     2957785    151271    468589  ...   1453        21850   21339553\n",
              "3     5475547    280081    867602  ...   2870        26377   52327414\n",
              "4    33769186   1726559   5352083  ...  16572        21268   52327098\n",
              "..        ...       ...       ...  ...    ...          ...        ...\n",
              "751  31426223   1620696   5001492  ...  14552        18440   51861258\n",
              "752   2745314    141275    434027  ...   1264        18965   51829398\n",
              "753   5109805    263726    811758  ...   2536        23372   51833134\n",
              "754  31296698   1614570   4981282  ...  14501        18372   51850758\n",
              "755   2734229    140802    432415  ...   1260        18895   51858268\n",
              "\n",
              "[756 rows x 10 columns]"
            ]
          },
          "metadata": {
            "tags": []
          },
          "execution_count": 139
        }
      ]
    },
    {
      "cell_type": "code",
      "metadata": {
        "colab": {
          "base_uri": "https://localhost:8080/"
        },
        "id": "XVKNSBFEdLug",
        "outputId": "a62f88e9-bdf2-4b14-a63d-aceb82338030"
      },
      "source": [
        "#db형태에 맞게 id, version, \n",
        "len(result.index)"
      ],
      "execution_count": 120,
      "outputs": [
        {
          "output_type": "execute_result",
          "data": {
            "text/plain": [
              "756"
            ]
          },
          "metadata": {
            "tags": []
          },
          "execution_count": 120
        }
      ]
    },
    {
      "cell_type": "code",
      "metadata": {
        "id": "lID6UrYPaVU_"
      },
      "source": [
        "#id column inserting code\n",
        "id = []\n",
        "for i in range(len(result.index)):\n",
        "  id.append(i+1)\n",
        "result.insert(0,'id',id)"
      ],
      "execution_count": 140,
      "outputs": []
    },
    {
      "cell_type": "code",
      "metadata": {
        "colab": {
          "base_uri": "https://localhost:8080/",
          "height": 439
        },
        "id": "WxetvyE2Gwg_",
        "outputId": "1f534d21-9edb-4a6c-a05b-1353d14ff5b7"
      },
      "source": [
        "result"
      ],
      "execution_count": 123,
      "outputs": [
        {
          "output_type": "execute_result",
          "data": {
            "text/html": [
              "<div>\n",
              "<style scoped>\n",
              "    .dataframe tbody tr th:only-of-type {\n",
              "        vertical-align: middle;\n",
              "    }\n",
              "\n",
              "    .dataframe tbody tr th {\n",
              "        vertical-align: top;\n",
              "    }\n",
              "\n",
              "    .dataframe thead th {\n",
              "        text-align: right;\n",
              "    }\n",
              "</style>\n",
              "<table border=\"1\" class=\"dataframe\">\n",
              "  <thead>\n",
              "    <tr style=\"text-align: right;\">\n",
              "      <th></th>\n",
              "      <th>id</th>\n",
              "      <th>ic_dlfc</th>\n",
              "      <th>ic_ohdfe</th>\n",
              "      <th>ic_ohdfd</th>\n",
              "      <th>ic_dlvc</th>\n",
              "      <th>ic_ohdvc</th>\n",
              "      <th>ic_idlc</th>\n",
              "      <th>ic_idohc</th>\n",
              "      <th>proq</th>\n",
              "      <th>proamt_unit</th>\n",
              "      <th>uc_srw</th>\n",
              "    </tr>\n",
              "  </thead>\n",
              "  <tbody>\n",
              "    <tr>\n",
              "      <th>0</th>\n",
              "      <td>1</td>\n",
              "      <td>5490412</td>\n",
              "      <td>280799</td>\n",
              "      <td>869822</td>\n",
              "      <td>0</td>\n",
              "      <td>2503700</td>\n",
              "      <td>930183</td>\n",
              "      <td>921941</td>\n",
              "      <td>2880</td>\n",
              "      <td>26470</td>\n",
              "      <td>52044552</td>\n",
              "    </tr>\n",
              "    <tr>\n",
              "      <th>1</th>\n",
              "      <td>2</td>\n",
              "      <td>33871013</td>\n",
              "      <td>1732282</td>\n",
              "      <td>5366038</td>\n",
              "      <td>0</td>\n",
              "      <td>15445629</td>\n",
              "      <td>4334581</td>\n",
              "      <td>4296172</td>\n",
              "      <td>16639</td>\n",
              "      <td>21350</td>\n",
              "      <td>250909246</td>\n",
              "    </tr>\n",
              "    <tr>\n",
              "      <th>2</th>\n",
              "      <td>3</td>\n",
              "      <td>2957785</td>\n",
              "      <td>151271</td>\n",
              "      <td>468589</td>\n",
              "      <td>0</td>\n",
              "      <td>1348789</td>\n",
              "      <td>387382</td>\n",
              "      <td>383949</td>\n",
              "      <td>1453</td>\n",
              "      <td>21850</td>\n",
              "      <td>21339553</td>\n",
              "    </tr>\n",
              "    <tr>\n",
              "      <th>3</th>\n",
              "      <td>4</td>\n",
              "      <td>5507502</td>\n",
              "      <td>281542</td>\n",
              "      <td>872172</td>\n",
              "      <td>0</td>\n",
              "      <td>2513406</td>\n",
              "      <td>933632</td>\n",
              "      <td>925087</td>\n",
              "      <td>2890</td>\n",
              "      <td>26560</td>\n",
              "      <td>52322970</td>\n",
              "    </tr>\n",
              "    <tr>\n",
              "      <th>4</th>\n",
              "      <td>5</td>\n",
              "      <td>33962475</td>\n",
              "      <td>1737603</td>\n",
              "      <td>5383398</td>\n",
              "      <td>0</td>\n",
              "      <td>15506947</td>\n",
              "      <td>4349512</td>\n",
              "      <td>4312966</td>\n",
              "      <td>16695</td>\n",
              "      <td>21435</td>\n",
              "      <td>52336013</td>\n",
              "    </tr>\n",
              "    <tr>\n",
              "      <th>...</th>\n",
              "      <td>...</td>\n",
              "      <td>...</td>\n",
              "      <td>...</td>\n",
              "      <td>...</td>\n",
              "      <td>...</td>\n",
              "      <td>...</td>\n",
              "      <td>...</td>\n",
              "      <td>...</td>\n",
              "      <td>...</td>\n",
              "      <td>...</td>\n",
              "      <td>...</td>\n",
              "    </tr>\n",
              "    <tr>\n",
              "      <th>751</th>\n",
              "      <td>752</td>\n",
              "      <td>28745837</td>\n",
              "      <td>1474335</td>\n",
              "      <td>4567873</td>\n",
              "      <td>0</td>\n",
              "      <td>14554164</td>\n",
              "      <td>4092806</td>\n",
              "      <td>4056229</td>\n",
              "      <td>15571</td>\n",
              "      <td>19871</td>\n",
              "      <td>51848094</td>\n",
              "    </tr>\n",
              "    <tr>\n",
              "      <th>752</th>\n",
              "      <td>753</td>\n",
              "      <td>2537506</td>\n",
              "      <td>127646</td>\n",
              "      <td>401207</td>\n",
              "      <td>0</td>\n",
              "      <td>1263162</td>\n",
              "      <td>365424</td>\n",
              "      <td>359729</td>\n",
              "      <td>1354</td>\n",
              "      <td>20454</td>\n",
              "      <td>51852505</td>\n",
              "    </tr>\n",
              "    <tr>\n",
              "      <th>753</th>\n",
              "      <td>754</td>\n",
              "      <td>4708456</td>\n",
              "      <td>240397</td>\n",
              "      <td>745979</td>\n",
              "      <td>0</td>\n",
              "      <td>2365543</td>\n",
              "      <td>877553</td>\n",
              "      <td>876241</td>\n",
              "      <td>2718</td>\n",
              "      <td>25067</td>\n",
              "      <td>51857977</td>\n",
              "    </tr>\n",
              "    <tr>\n",
              "      <th>754</th>\n",
              "      <td>755</td>\n",
              "      <td>28634687</td>\n",
              "      <td>1468301</td>\n",
              "      <td>4549689</td>\n",
              "      <td>0</td>\n",
              "      <td>14494192</td>\n",
              "      <td>4075787</td>\n",
              "      <td>4042486</td>\n",
              "      <td>15509</td>\n",
              "      <td>19795</td>\n",
              "      <td>51837088</td>\n",
              "    </tr>\n",
              "    <tr>\n",
              "      <th>755</th>\n",
              "      <td>756</td>\n",
              "      <td>2528284</td>\n",
              "      <td>127169</td>\n",
              "      <td>399851</td>\n",
              "      <td>0</td>\n",
              "      <td>1258407</td>\n",
              "      <td>364099</td>\n",
              "      <td>358461</td>\n",
              "      <td>1348</td>\n",
              "      <td>20382</td>\n",
              "      <td>51862597</td>\n",
              "    </tr>\n",
              "  </tbody>\n",
              "</table>\n",
              "<p>756 rows × 11 columns</p>\n",
              "</div>"
            ],
            "text/plain": [
              "      id   ic_dlfc  ic_ohdfe  ic_ohdfd  ...  ic_idohc   proq  proamt_unit     uc_srw\n",
              "0      1   5490412    280799    869822  ...    921941   2880        26470   52044552\n",
              "1      2  33871013   1732282   5366038  ...   4296172  16639        21350  250909246\n",
              "2      3   2957785    151271    468589  ...    383949   1453        21850   21339553\n",
              "3      4   5507502    281542    872172  ...    925087   2890        26560   52322970\n",
              "4      5  33962475   1737603   5383398  ...   4312966  16695        21435   52336013\n",
              "..   ...       ...       ...       ...  ...       ...    ...          ...        ...\n",
              "751  752  28745837   1474335   4567873  ...   4056229  15571        19871   51848094\n",
              "752  753   2537506    127646    401207  ...    359729   1354        20454   51852505\n",
              "753  754   4708456    240397    745979  ...    876241   2718        25067   51857977\n",
              "754  755  28634687   1468301   4549689  ...   4042486  15509        19795   51837088\n",
              "755  756   2528284    127169    399851  ...    358461   1348        20382   51862597\n",
              "\n",
              "[756 rows x 11 columns]"
            ]
          },
          "metadata": {
            "tags": []
          },
          "execution_count": 123
        }
      ]
    },
    {
      "cell_type": "code",
      "metadata": {
        "id": "lip82Hb0g2LV"
      },
      "source": [
        "#version_id column inserting code\n",
        "version_id = []\n",
        "num = 200001\n",
        "while True:\n",
        "  if len(version_id) >= len(result.index):\n",
        "    break\n",
        "  if num % 100 == 13:\n",
        "    num += 100\n",
        "    num -= 12\n",
        "  for _ in range(3):\n",
        "    version_id.append(num)\n",
        "  num += 1\n",
        "result.insert(1,'version_id',version_id) "
      ],
      "execution_count": 141,
      "outputs": []
    },
    {
      "cell_type": "code",
      "metadata": {
        "id": "_wL0hFFohVfX"
      },
      "source": [
        "#itemplan_id column inserting code\n",
        "itemplan_id = []\n",
        "temp = 1\n",
        "while True:\n",
        "  if len(itemplan_id) >= len(result.index):\n",
        "    break\n",
        "  if temp % 3 == 1:\n",
        "    itemplan_id.append(3)\n",
        "  elif temp % 3 == 2:\n",
        "    itemplan_id.append(2)\n",
        "  else:\n",
        "    itemplan_id.append(1)\n",
        "  temp += 1\n",
        "result.insert(2,'itemplan_id',itemplan_id)\n",
        "  \n"
      ],
      "execution_count": 142,
      "outputs": []
    },
    {
      "cell_type": "code",
      "metadata": {
        "colab": {
          "base_uri": "https://localhost:8080/"
        },
        "id": "A8gmCgqKnq-Z",
        "outputId": "5920a008-f185-4e26-b66a-14afab1987e9"
      },
      "source": [
        "len(itemplan_id)"
      ],
      "execution_count": 126,
      "outputs": [
        {
          "output_type": "execute_result",
          "data": {
            "text/plain": [
              "756"
            ]
          },
          "metadata": {
            "tags": []
          },
          "execution_count": 126
        }
      ]
    },
    {
      "cell_type": "code",
      "metadata": {
        "colab": {
          "base_uri": "https://localhost:8080/",
          "height": 439
        },
        "id": "uQMZpS-hg8fg",
        "outputId": "3e749ccc-fdf6-4818-d820-21f3b7dfac14"
      },
      "source": [
        "result"
      ],
      "execution_count": 143,
      "outputs": [
        {
          "output_type": "execute_result",
          "data": {
            "text/html": [
              "<div>\n",
              "<style scoped>\n",
              "    .dataframe tbody tr th:only-of-type {\n",
              "        vertical-align: middle;\n",
              "    }\n",
              "\n",
              "    .dataframe tbody tr th {\n",
              "        vertical-align: top;\n",
              "    }\n",
              "\n",
              "    .dataframe thead th {\n",
              "        text-align: right;\n",
              "    }\n",
              "</style>\n",
              "<table border=\"1\" class=\"dataframe\">\n",
              "  <thead>\n",
              "    <tr style=\"text-align: right;\">\n",
              "      <th></th>\n",
              "      <th>id</th>\n",
              "      <th>version_id</th>\n",
              "      <th>itemplan_id</th>\n",
              "      <th>ic_dlfc</th>\n",
              "      <th>ic_ohdfe</th>\n",
              "      <th>ic_ohdfd</th>\n",
              "      <th>ic_dlvc</th>\n",
              "      <th>ic_ohdvc</th>\n",
              "      <th>ic_idlc</th>\n",
              "      <th>ic_idohc</th>\n",
              "      <th>proq</th>\n",
              "      <th>proamt_unit</th>\n",
              "      <th>uc_srw</th>\n",
              "    </tr>\n",
              "  </thead>\n",
              "  <tbody>\n",
              "    <tr>\n",
              "      <th>0</th>\n",
              "      <td>1</td>\n",
              "      <td>200001</td>\n",
              "      <td>3</td>\n",
              "      <td>5490412</td>\n",
              "      <td>280799</td>\n",
              "      <td>869822</td>\n",
              "      <td>0</td>\n",
              "      <td>2503700</td>\n",
              "      <td>930183</td>\n",
              "      <td>921941</td>\n",
              "      <td>2880</td>\n",
              "      <td>26470</td>\n",
              "      <td>52044552</td>\n",
              "    </tr>\n",
              "    <tr>\n",
              "      <th>1</th>\n",
              "      <td>2</td>\n",
              "      <td>200001</td>\n",
              "      <td>2</td>\n",
              "      <td>33871013</td>\n",
              "      <td>1732282</td>\n",
              "      <td>5366038</td>\n",
              "      <td>0</td>\n",
              "      <td>15445629</td>\n",
              "      <td>4334581</td>\n",
              "      <td>4296172</td>\n",
              "      <td>16639</td>\n",
              "      <td>21350</td>\n",
              "      <td>250909246</td>\n",
              "    </tr>\n",
              "    <tr>\n",
              "      <th>2</th>\n",
              "      <td>3</td>\n",
              "      <td>200001</td>\n",
              "      <td>1</td>\n",
              "      <td>2957785</td>\n",
              "      <td>151271</td>\n",
              "      <td>468589</td>\n",
              "      <td>0</td>\n",
              "      <td>1348789</td>\n",
              "      <td>387382</td>\n",
              "      <td>383949</td>\n",
              "      <td>1453</td>\n",
              "      <td>21850</td>\n",
              "      <td>21339553</td>\n",
              "    </tr>\n",
              "    <tr>\n",
              "      <th>3</th>\n",
              "      <td>4</td>\n",
              "      <td>200002</td>\n",
              "      <td>3</td>\n",
              "      <td>5475547</td>\n",
              "      <td>280081</td>\n",
              "      <td>867602</td>\n",
              "      <td>0</td>\n",
              "      <td>2513158</td>\n",
              "      <td>933844</td>\n",
              "      <td>925145</td>\n",
              "      <td>2870</td>\n",
              "      <td>26377</td>\n",
              "      <td>52327414</td>\n",
              "    </tr>\n",
              "    <tr>\n",
              "      <th>4</th>\n",
              "      <td>5</td>\n",
              "      <td>200002</td>\n",
              "      <td>2</td>\n",
              "      <td>33769186</td>\n",
              "      <td>1726559</td>\n",
              "      <td>5352083</td>\n",
              "      <td>0</td>\n",
              "      <td>15497155</td>\n",
              "      <td>4352432</td>\n",
              "      <td>4312449</td>\n",
              "      <td>16572</td>\n",
              "      <td>21268</td>\n",
              "      <td>52327098</td>\n",
              "    </tr>\n",
              "    <tr>\n",
              "      <th>...</th>\n",
              "      <td>...</td>\n",
              "      <td>...</td>\n",
              "      <td>...</td>\n",
              "      <td>...</td>\n",
              "      <td>...</td>\n",
              "      <td>...</td>\n",
              "      <td>...</td>\n",
              "      <td>...</td>\n",
              "      <td>...</td>\n",
              "      <td>...</td>\n",
              "      <td>...</td>\n",
              "      <td>...</td>\n",
              "      <td>...</td>\n",
              "    </tr>\n",
              "    <tr>\n",
              "      <th>751</th>\n",
              "      <td>752</td>\n",
              "      <td>202011</td>\n",
              "      <td>2</td>\n",
              "      <td>31426223</td>\n",
              "      <td>1620696</td>\n",
              "      <td>5001492</td>\n",
              "      <td>0</td>\n",
              "      <td>13679235</td>\n",
              "      <td>3825618</td>\n",
              "      <td>3825561</td>\n",
              "      <td>14552</td>\n",
              "      <td>18440</td>\n",
              "      <td>51861258</td>\n",
              "    </tr>\n",
              "    <tr>\n",
              "      <th>752</th>\n",
              "      <td>753</td>\n",
              "      <td>202011</td>\n",
              "      <td>1</td>\n",
              "      <td>2745314</td>\n",
              "      <td>141275</td>\n",
              "      <td>434027</td>\n",
              "      <td>0</td>\n",
              "      <td>1195144</td>\n",
              "      <td>344662</td>\n",
              "      <td>338172</td>\n",
              "      <td>1264</td>\n",
              "      <td>18965</td>\n",
              "      <td>51829398</td>\n",
              "    </tr>\n",
              "    <tr>\n",
              "      <th>753</th>\n",
              "      <td>754</td>\n",
              "      <td>202012</td>\n",
              "      <td>3</td>\n",
              "      <td>5109805</td>\n",
              "      <td>263726</td>\n",
              "      <td>811758</td>\n",
              "      <td>0</td>\n",
              "      <td>2209917</td>\n",
              "      <td>821286</td>\n",
              "      <td>810878</td>\n",
              "      <td>2536</td>\n",
              "      <td>23372</td>\n",
              "      <td>51833134</td>\n",
              "    </tr>\n",
              "    <tr>\n",
              "      <th>754</th>\n",
              "      <td>755</td>\n",
              "      <td>202012</td>\n",
              "      <td>2</td>\n",
              "      <td>31296698</td>\n",
              "      <td>1614570</td>\n",
              "      <td>4981282</td>\n",
              "      <td>0</td>\n",
              "      <td>13622468</td>\n",
              "      <td>3812269</td>\n",
              "      <td>3809740</td>\n",
              "      <td>14501</td>\n",
              "      <td>18372</td>\n",
              "      <td>51850758</td>\n",
              "    </tr>\n",
              "    <tr>\n",
              "      <th>755</th>\n",
              "      <td>756</td>\n",
              "      <td>202012</td>\n",
              "      <td>1</td>\n",
              "      <td>2734229</td>\n",
              "      <td>140802</td>\n",
              "      <td>432415</td>\n",
              "      <td>0</td>\n",
              "      <td>1191126</td>\n",
              "      <td>343484</td>\n",
              "      <td>337030</td>\n",
              "      <td>1260</td>\n",
              "      <td>18895</td>\n",
              "      <td>51858268</td>\n",
              "    </tr>\n",
              "  </tbody>\n",
              "</table>\n",
              "<p>756 rows × 13 columns</p>\n",
              "</div>"
            ],
            "text/plain": [
              "      id  version_id  itemplan_id  ...   proq  proamt_unit     uc_srw\n",
              "0      1      200001            3  ...   2880        26470   52044552\n",
              "1      2      200001            2  ...  16639        21350  250909246\n",
              "2      3      200001            1  ...   1453        21850   21339553\n",
              "3      4      200002            3  ...   2870        26377   52327414\n",
              "4      5      200002            2  ...  16572        21268   52327098\n",
              "..   ...         ...          ...  ...    ...          ...        ...\n",
              "751  752      202011            2  ...  14552        18440   51861258\n",
              "752  753      202011            1  ...   1264        18965   51829398\n",
              "753  754      202012            3  ...   2536        23372   51833134\n",
              "754  755      202012            2  ...  14501        18372   51850758\n",
              "755  756      202012            1  ...   1260        18895   51858268\n",
              "\n",
              "[756 rows x 13 columns]"
            ]
          },
          "metadata": {
            "tags": []
          },
          "execution_count": 143
        }
      ]
    },
    {
      "cell_type": "code",
      "metadata": {
        "id": "LJiJohajV5Hd"
      },
      "source": [
        "result.to_excel('data_20y_v11.xlsx',index=False)"
      ],
      "execution_count": 144,
      "outputs": []
    },
    {
      "cell_type": "code",
      "metadata": {
        "id": "Aqdvb3QJXoaC"
      },
      "source": [
        ""
      ],
      "execution_count": null,
      "outputs": []
    }
  ]
}