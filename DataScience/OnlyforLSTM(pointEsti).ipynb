{
  "nbformat": 4,
  "nbformat_minor": 0,
  "metadata": {
    "colab": {
      "name": "OnlyforLSTM(pointEsti).ipynb",
      "provenance": [],
      "collapsed_sections": []
    },
    "kernelspec": {
      "name": "python3",
      "display_name": "Python 3"
    },
    "language_info": {
      "name": "python"
    }
  },
  "cells": [
    {
      "cell_type": "code",
      "metadata": {
        "id": "hBXieWn6bVCr"
      },
      "source": [
        "!pip install pmdarima"
      ],
      "execution_count": null,
      "outputs": []
    },
    {
      "cell_type": "code",
      "metadata": {
        "id": "FHTVzWDI0iSV"
      },
      "source": [
        "from mpl_toolkits.mplot3d import Axes3D\n",
        "from sklearn.preprocessing import StandardScaler\n",
        "import matplotlib.pyplot as plt # plotting\n",
        "import numpy as np # linear algebra\n",
        "import os # accessing directory structure\n",
        "import pandas as pd # data processing, CSV file I/O (e.g. pd.read_csv)\n",
        "import sys \n",
        "import numpy as np # linear algebra\n",
        "from scipy.stats import randint\n",
        "import pandas as pd # data processing, CSV file I/O (e.g. pd.read_csv), data manipulation as in SQL\n",
        "import matplotlib.pyplot as plt # this is used for the plot the graph \n",
        "import seaborn as sns # used for plot interactive graph. \n",
        "from sklearn.model_selection import train_test_split # to split the data into two parts\n",
        "from sklearn.model_selection import KFold # use for cross validation\n",
        "from sklearn.preprocessing import StandardScaler # for normalization\n",
        "from sklearn.preprocessing import MinMaxScaler\n",
        "from sklearn.pipeline import Pipeline # pipeline making\n",
        "from sklearn.model_selection import cross_val_score\n",
        "from sklearn.feature_selection import SelectFromModel\n",
        "from sklearn import metrics # for the check the error and accuracy of the model\n",
        "from sklearn.metrics import mean_squared_error,r2_score"
      ],
      "execution_count": 86,
      "outputs": []
    },
    {
      "cell_type": "code",
      "metadata": {
        "id": "0h44w7-YJGfW"
      },
      "source": [
        "## For data\n",
        "import pandas as pd\n",
        "import numpy as np\n",
        "from sklearn.preprocessing import MinMaxScaler\n",
        "## For plotting\n",
        "import matplotlib.pyplot as plt\n",
        "## For Arima\n",
        "import pmdarima\n",
        "import statsmodels.tsa.api as smt\n",
        "## For Lstm\n",
        "from tensorflow.keras import models, layers, preprocessing as kprocessing\n",
        "## For Prophet\n",
        "from fbprophet import Prophet"
      ],
      "execution_count": 20,
      "outputs": []
    },
    {
      "cell_type": "code",
      "metadata": {
        "id": "MAIkGTgOky8t"
      },
      "source": [
        "## for Deep-learing:\n",
        "import keras\n",
        "from keras.layers import Dense\n",
        "from keras.models import Sequential\n",
        "from keras.utils import to_categorical\n",
        "from keras.optimizers import SGD \n",
        "from keras.callbacks import EarlyStopping\n",
        "from keras.utils import np_utils\n",
        "import itertools\n",
        "from keras.layers import LSTM\n",
        "from keras.layers.convolutional import Conv1D\n",
        "from keras.layers.convolutional import MaxPooling1D\n",
        "from keras.layers import Dropout"
      ],
      "execution_count": 15,
      "outputs": []
    },
    {
      "cell_type": "code",
      "metadata": {
        "id": "JBobGja4bTv0",
        "colab": {
          "base_uri": "https://localhost:8080/",
          "height": 224
        },
        "outputId": "e5a70811-12b4-4799-ac6e-614a1dc85284"
      },
      "source": [
        "dtf = pd.read_excel('data_20y_v13.xlsx')\n",
        "dtf.head()"
      ],
      "execution_count": 46,
      "outputs": [
        {
          "output_type": "execute_result",
          "data": {
            "text/html": [
              "<div>\n",
              "<style scoped>\n",
              "    .dataframe tbody tr th:only-of-type {\n",
              "        vertical-align: middle;\n",
              "    }\n",
              "\n",
              "    .dataframe tbody tr th {\n",
              "        vertical-align: top;\n",
              "    }\n",
              "\n",
              "    .dataframe thead th {\n",
              "        text-align: right;\n",
              "    }\n",
              "</style>\n",
              "<table border=\"1\" class=\"dataframe\">\n",
              "  <thead>\n",
              "    <tr style=\"text-align: right;\">\n",
              "      <th></th>\n",
              "      <th>id</th>\n",
              "      <th>version_id</th>\n",
              "      <th>itemplan_id</th>\n",
              "      <th>bi_brm</th>\n",
              "      <th>ra_rm</th>\n",
              "      <th>ei_erm</th>\n",
              "      <th>ei_elc</th>\n",
              "      <th>ei_eoh</th>\n",
              "      <th>ic_dlfc</th>\n",
              "      <th>ic_ohdfe</th>\n",
              "      <th>ic_ohdfd</th>\n",
              "      <th>ic_dlvc</th>\n",
              "      <th>ic_ohdvc</th>\n",
              "      <th>ic_idlc</th>\n",
              "      <th>ic_idohc</th>\n",
              "      <th>proq</th>\n",
              "      <th>proamt_unit</th>\n",
              "      <th>ic_arm</th>\n",
              "      <th>uc_srw</th>\n",
              "      <th>uc_dlc</th>\n",
              "      <th>uc_idlc</th>\n",
              "      <th>uc_idohc</th>\n",
              "      <th>uc_dohc</th>\n",
              "    </tr>\n",
              "  </thead>\n",
              "  <tbody>\n",
              "    <tr>\n",
              "      <th>0</th>\n",
              "      <td>1</td>\n",
              "      <td>200001</td>\n",
              "      <td>3</td>\n",
              "      <td>17415549</td>\n",
              "      <td>0</td>\n",
              "      <td>46821054</td>\n",
              "      <td>0</td>\n",
              "      <td>0</td>\n",
              "      <td>5490412</td>\n",
              "      <td>280799</td>\n",
              "      <td>869822</td>\n",
              "      <td>0</td>\n",
              "      <td>2503700</td>\n",
              "      <td>930183</td>\n",
              "      <td>921941</td>\n",
              "      <td>2880</td>\n",
              "      <td>26470</td>\n",
              "      <td>81450058</td>\n",
              "      <td>52044552</td>\n",
              "      <td>5490412</td>\n",
              "      <td>930183</td>\n",
              "      <td>921941</td>\n",
              "      <td>2784499</td>\n",
              "    </tr>\n",
              "    <tr>\n",
              "      <th>1</th>\n",
              "      <td>2</td>\n",
              "      <td>200001</td>\n",
              "      <td>2</td>\n",
              "      <td>1526791</td>\n",
              "      <td>0</td>\n",
              "      <td>143292124</td>\n",
              "      <td>0</td>\n",
              "      <td>0</td>\n",
              "      <td>33871013</td>\n",
              "      <td>1732282</td>\n",
              "      <td>5366038</td>\n",
              "      <td>0</td>\n",
              "      <td>15445629</td>\n",
              "      <td>4334581</td>\n",
              "      <td>4296172</td>\n",
              "      <td>16639</td>\n",
              "      <td>21350</td>\n",
              "      <td>392674579</td>\n",
              "      <td>250909246</td>\n",
              "      <td>33871013</td>\n",
              "      <td>4334581</td>\n",
              "      <td>4296172</td>\n",
              "      <td>17177911</td>\n",
              "    </tr>\n",
              "    <tr>\n",
              "      <th>2</th>\n",
              "      <td>3</td>\n",
              "      <td>200001</td>\n",
              "      <td>1</td>\n",
              "      <td>130425628</td>\n",
              "      <td>0</td>\n",
              "      <td>142482613</td>\n",
              "      <td>0</td>\n",
              "      <td>0</td>\n",
              "      <td>2957785</td>\n",
              "      <td>151271</td>\n",
              "      <td>468589</td>\n",
              "      <td>0</td>\n",
              "      <td>1348789</td>\n",
              "      <td>387382</td>\n",
              "      <td>383949</td>\n",
              "      <td>1453</td>\n",
              "      <td>21850</td>\n",
              "      <td>33396537</td>\n",
              "      <td>21339553</td>\n",
              "      <td>2957785</td>\n",
              "      <td>387382</td>\n",
              "      <td>383949</td>\n",
              "      <td>1500060</td>\n",
              "    </tr>\n",
              "    <tr>\n",
              "      <th>3</th>\n",
              "      <td>4</td>\n",
              "      <td>200002</td>\n",
              "      <td>3</td>\n",
              "      <td>17413728</td>\n",
              "      <td>0</td>\n",
              "      <td>46824488</td>\n",
              "      <td>0</td>\n",
              "      <td>0</td>\n",
              "      <td>5490445</td>\n",
              "      <td>280798</td>\n",
              "      <td>869734</td>\n",
              "      <td>0</td>\n",
              "      <td>2503925</td>\n",
              "      <td>930100</td>\n",
              "      <td>921899</td>\n",
              "      <td>2880</td>\n",
              "      <td>26472</td>\n",
              "      <td>81193250</td>\n",
              "      <td>51881068</td>\n",
              "      <td>5490445</td>\n",
              "      <td>930100</td>\n",
              "      <td>921899</td>\n",
              "      <td>2784723</td>\n",
              "    </tr>\n",
              "    <tr>\n",
              "      <th>4</th>\n",
              "      <td>5</td>\n",
              "      <td>200002</td>\n",
              "      <td>2</td>\n",
              "      <td>1526579</td>\n",
              "      <td>0</td>\n",
              "      <td>143283554</td>\n",
              "      <td>0</td>\n",
              "      <td>0</td>\n",
              "      <td>33871697</td>\n",
              "      <td>1732316</td>\n",
              "      <td>5366085</td>\n",
              "      <td>0</td>\n",
              "      <td>15444518</td>\n",
              "      <td>4334860</td>\n",
              "      <td>4296863</td>\n",
              "      <td>16638</td>\n",
              "      <td>21348</td>\n",
              "      <td>391416771</td>\n",
              "      <td>250073131</td>\n",
              "      <td>33871697</td>\n",
              "      <td>4334860</td>\n",
              "      <td>4296863</td>\n",
              "      <td>17176834</td>\n",
              "    </tr>\n",
              "  </tbody>\n",
              "</table>\n",
              "</div>"
            ],
            "text/plain": [
              "   id  version_id  itemplan_id  ...  uc_idlc  uc_idohc   uc_dohc\n",
              "0   1      200001            3  ...   930183    921941   2784499\n",
              "1   2      200001            2  ...  4334581   4296172  17177911\n",
              "2   3      200001            1  ...   387382    383949   1500060\n",
              "3   4      200002            3  ...   930100    921899   2784723\n",
              "4   5      200002            2  ...  4334860   4296863  17176834\n",
              "\n",
              "[5 rows x 23 columns]"
            ]
          },
          "metadata": {
            "tags": []
          },
          "execution_count": 46
        }
      ]
    },
    {
      "cell_type": "code",
      "metadata": {
        "colab": {
          "base_uri": "https://localhost:8080/",
          "height": 522
        },
        "id": "n8i7i5ASbs9D",
        "outputId": "eff21b37-bb0b-406c-9083-ded1aad51728"
      },
      "source": [
        "#독립변수 3 항목 - 고정비, 변동비, 재료비 -> 종속변수 1 항목 - 매출액\n",
        "dtf['y'] = dtf['proq'] * dtf['proamt_unit'] # 매출액\n",
        "dtf['x1'] = dtf['ic_dlvc'] + dtf['ic_ohdvc'] + dtf['ic_idlc'] + dtf['ic_idohc'] #변동비4개/\n",
        "dtf['x2'] =  dtf['ic_dlfc'] + dtf['ic_ohdfe'] + dtf['ic_ohdfd'] #고정비3개\n",
        "dtf['x3'] = dtf['uc_srw'] # 당기 사용 재료비\n",
        "\n",
        "df = dtf[['version_id'\t,'y','itemplan_id','x1','x2','x3']]\n",
        "#\n",
        "df_new = df.groupby(['version_id'], as_index=False)['y','x1','x2','x3',].agg('sum')\n",
        "#\n",
        "from datetime import datetime\n",
        "\n",
        "date = df_new['version_id'].astype(str)\n",
        "len(date)\n",
        "kdate = [datetime.strptime(d, '%Y%m') for d in date]\n",
        "df_new['version_id'] = kdate\n",
        "#df = pd.DataFrame({'Joined date': pd.to_datetime(df_new['version_id']),\"Salary\":dtf['x1']})\n",
        "df_new = df_new.set_index(['version_id'])\n",
        "df_new"
      ],
      "execution_count": 100,
      "outputs": [
        {
          "output_type": "stream",
          "text": [
            "/usr/local/lib/python3.7/dist-packages/ipykernel_launcher.py:9: FutureWarning:\n",
            "\n",
            "Indexing with multiple keys (implicitly converted to a tuple of keys) will be deprecated, use a list instead.\n",
            "\n"
          ],
          "name": "stderr"
        },
        {
          "output_type": "execute_result",
          "data": {
            "text/html": [
              "<div>\n",
              "<style scoped>\n",
              "    .dataframe tbody tr th:only-of-type {\n",
              "        vertical-align: middle;\n",
              "    }\n",
              "\n",
              "    .dataframe tbody tr th {\n",
              "        vertical-align: top;\n",
              "    }\n",
              "\n",
              "    .dataframe thead th {\n",
              "        text-align: right;\n",
              "    }\n",
              "</style>\n",
              "<table border=\"1\" class=\"dataframe\">\n",
              "  <thead>\n",
              "    <tr style=\"text-align: right;\">\n",
              "      <th></th>\n",
              "      <th>y</th>\n",
              "      <th>x1</th>\n",
              "      <th>x2</th>\n",
              "      <th>x3</th>\n",
              "    </tr>\n",
              "    <tr>\n",
              "      <th>version_id</th>\n",
              "      <th></th>\n",
              "      <th></th>\n",
              "      <th></th>\n",
              "      <th></th>\n",
              "    </tr>\n",
              "  </thead>\n",
              "  <tbody>\n",
              "    <tr>\n",
              "      <th>2000-01-01</th>\n",
              "      <td>463224300</td>\n",
              "      <td>30552326</td>\n",
              "      <td>51188011</td>\n",
              "      <td>324293351</td>\n",
              "    </tr>\n",
              "    <tr>\n",
              "      <th>2000-02-01</th>\n",
              "      <td>463176887</td>\n",
              "      <td>30552194</td>\n",
              "      <td>51188119</td>\n",
              "      <td>323222895</td>\n",
              "    </tr>\n",
              "    <tr>\n",
              "      <th>2000-03-01</th>\n",
              "      <td>463079531</td>\n",
              "      <td>30553722</td>\n",
              "      <td>51142137</td>\n",
              "      <td>323584299</td>\n",
              "    </tr>\n",
              "    <tr>\n",
              "      <th>2000-04-01</th>\n",
              "      <td>464499530</td>\n",
              "      <td>30576689</td>\n",
              "      <td>51205260</td>\n",
              "      <td>324966725</td>\n",
              "    </tr>\n",
              "    <tr>\n",
              "      <th>2000-05-01</th>\n",
              "      <td>462641622</td>\n",
              "      <td>30553298</td>\n",
              "      <td>51203415</td>\n",
              "      <td>324977876</td>\n",
              "    </tr>\n",
              "    <tr>\n",
              "      <th>...</th>\n",
              "      <td>...</td>\n",
              "      <td>...</td>\n",
              "      <td>...</td>\n",
              "      <td>...</td>\n",
              "    </tr>\n",
              "    <tr>\n",
              "      <th>2020-08-01</th>\n",
              "      <td>411981701</td>\n",
              "      <td>28972210</td>\n",
              "      <td>47480513</td>\n",
              "      <td>305389197</td>\n",
              "    </tr>\n",
              "    <tr>\n",
              "      <th>2020-09-01</th>\n",
              "      <td>408942484</td>\n",
              "      <td>28865451</td>\n",
              "      <td>47300603</td>\n",
              "      <td>304213592</td>\n",
              "    </tr>\n",
              "    <tr>\n",
              "      <th>2020-10-01</th>\n",
              "      <td>405887681</td>\n",
              "      <td>28757559</td>\n",
              "      <td>47123757</td>\n",
              "      <td>303056582</td>\n",
              "    </tr>\n",
              "    <tr>\n",
              "      <th>2020-11-01</th>\n",
              "      <td>402843348</td>\n",
              "      <td>28650608</td>\n",
              "      <td>46948107</td>\n",
              "      <td>301926437</td>\n",
              "    </tr>\n",
              "    <tr>\n",
              "      <th>2020-12-01</th>\n",
              "      <td>399800764</td>\n",
              "      <td>28542779</td>\n",
              "      <td>46773931</td>\n",
              "      <td>300771033</td>\n",
              "    </tr>\n",
              "  </tbody>\n",
              "</table>\n",
              "<p>252 rows × 4 columns</p>\n",
              "</div>"
            ],
            "text/plain": [
              "                    y        x1        x2         x3\n",
              "version_id                                          \n",
              "2000-01-01  463224300  30552326  51188011  324293351\n",
              "2000-02-01  463176887  30552194  51188119  323222895\n",
              "2000-03-01  463079531  30553722  51142137  323584299\n",
              "2000-04-01  464499530  30576689  51205260  324966725\n",
              "2000-05-01  462641622  30553298  51203415  324977876\n",
              "...               ...       ...       ...        ...\n",
              "2020-08-01  411981701  28972210  47480513  305389197\n",
              "2020-09-01  408942484  28865451  47300603  304213592\n",
              "2020-10-01  405887681  28757559  47123757  303056582\n",
              "2020-11-01  402843348  28650608  46948107  301926437\n",
              "2020-12-01  399800764  28542779  46773931  300771033\n",
              "\n",
              "[252 rows x 4 columns]"
            ]
          },
          "metadata": {
            "tags": []
          },
          "execution_count": 100
        }
      ]
    },
    {
      "cell_type": "code",
      "metadata": {
        "id": "UfBN7N9hq6TA"
      },
      "source": [
        "def series_to_supervised(data, n_in=1, n_out=1, dropnan=True):\n",
        "    n_vars = 1 if type(data) is list else data.shape[1]\n",
        "    dff = pd.DataFrame(data)\n",
        "    cols, names = list(), list()\n",
        "    for i in range(n_in, 0, -1):\n",
        "        cols.append(dff.shift(-i))\n",
        "        names += [('var%d(t-%d)' % (j+1, i)) for j in range(n_vars)]\n",
        "    for i in range(0, n_out):\n",
        "        cols.append(dff.shift(-i))\n",
        "        if i==0:\n",
        "            names += [('var%d(t)' % (j+1)) for j in range(n_vars)]\n",
        "        else:\n",
        "            names += [('var%d(t+%d)' % (j+1)) for j in range(n_vars)]\n",
        "        \n",
        "        agg = pd.concat(cols, axis=1)\n",
        "        agg.columns = names\n",
        "        if dropnan:\n",
        "            agg.dropna(inplace=True)\n",
        "        return agg"
      ],
      "execution_count": 101,
      "outputs": []
    },
    {
      "cell_type": "code",
      "metadata": {
        "colab": {
          "base_uri": "https://localhost:8080/",
          "height": 204
        },
        "id": "hHU-BbH6le_v",
        "outputId": "ce2e86fb-e823-4620-9606-390414595e20"
      },
      "source": [
        "values = df_new.values\n",
        "scaler = MinMaxScaler(feature_range=(0, 1))\n",
        "scaled = scaler.fit_transform(values)\n",
        "df_new = series_to_supervised(scaled, 1, 1)\n",
        "df_new.drop(df_new.columns[[5,6,7]], axis=1, inplace=True)\n",
        "df_new.head()"
      ],
      "execution_count": 102,
      "outputs": [
        {
          "output_type": "execute_result",
          "data": {
            "text/html": [
              "<div>\n",
              "<style scoped>\n",
              "    .dataframe tbody tr th:only-of-type {\n",
              "        vertical-align: middle;\n",
              "    }\n",
              "\n",
              "    .dataframe tbody tr th {\n",
              "        vertical-align: top;\n",
              "    }\n",
              "\n",
              "    .dataframe thead th {\n",
              "        text-align: right;\n",
              "    }\n",
              "</style>\n",
              "<table border=\"1\" class=\"dataframe\">\n",
              "  <thead>\n",
              "    <tr style=\"text-align: right;\">\n",
              "      <th></th>\n",
              "      <th>var1(t-1)</th>\n",
              "      <th>var2(t-1)</th>\n",
              "      <th>var3(t-1)</th>\n",
              "      <th>var4(t-1)</th>\n",
              "      <th>var1(t)</th>\n",
              "    </tr>\n",
              "  </thead>\n",
              "  <tbody>\n",
              "    <tr>\n",
              "      <th>0</th>\n",
              "      <td>0.918892</td>\n",
              "      <td>0.907171</td>\n",
              "      <td>0.929665</td>\n",
              "      <td>0.790743</td>\n",
              "      <td>0.919580</td>\n",
              "    </tr>\n",
              "    <tr>\n",
              "      <th>1</th>\n",
              "      <td>0.917481</td>\n",
              "      <td>0.907861</td>\n",
              "      <td>0.919980</td>\n",
              "      <td>0.803472</td>\n",
              "      <td>0.918892</td>\n",
              "    </tr>\n",
              "    <tr>\n",
              "      <th>2</th>\n",
              "      <td>0.938070</td>\n",
              "      <td>0.918229</td>\n",
              "      <td>0.933275</td>\n",
              "      <td>0.852160</td>\n",
              "      <td>0.917481</td>\n",
              "    </tr>\n",
              "    <tr>\n",
              "      <th>3</th>\n",
              "      <td>0.911132</td>\n",
              "      <td>0.907669</td>\n",
              "      <td>0.932886</td>\n",
              "      <td>0.852553</td>\n",
              "      <td>0.938070</td>\n",
              "    </tr>\n",
              "    <tr>\n",
              "      <th>4</th>\n",
              "      <td>0.891614</td>\n",
              "      <td>0.887098</td>\n",
              "      <td>0.945634</td>\n",
              "      <td>0.827745</td>\n",
              "      <td>0.911132</td>\n",
              "    </tr>\n",
              "  </tbody>\n",
              "</table>\n",
              "</div>"
            ],
            "text/plain": [
              "   var1(t-1)  var2(t-1)  var3(t-1)  var4(t-1)   var1(t)\n",
              "0   0.918892   0.907171   0.929665   0.790743  0.919580\n",
              "1   0.917481   0.907861   0.919980   0.803472  0.918892\n",
              "2   0.938070   0.918229   0.933275   0.852160  0.917481\n",
              "3   0.911132   0.907669   0.932886   0.852553  0.938070\n",
              "4   0.891614   0.887098   0.945634   0.827745  0.911132"
            ]
          },
          "metadata": {
            "tags": []
          },
          "execution_count": 102
        }
      ]
    },
    {
      "cell_type": "markdown",
      "metadata": {
        "id": "1IMIzLcVsaXX"
      },
      "source": [
        "X (i-1) 3개의 독립변수에 대한 Y( = var1(i))값을 예측한다"
      ]
    },
    {
      "cell_type": "code",
      "metadata": {
        "colab": {
          "base_uri": "https://localhost:8080/"
        },
        "id": "DV538O9DkTj5",
        "outputId": "d9b37916-fdfa-4d41-89d3-db071c330138"
      },
      "source": [
        "len(df_new) * 0.9"
      ],
      "execution_count": 90,
      "outputs": [
        {
          "output_type": "execute_result",
          "data": {
            "text/plain": [
              "225.0"
            ]
          },
          "metadata": {
            "tags": []
          },
          "execution_count": 90
        }
      ]
    },
    {
      "cell_type": "code",
      "metadata": {
        "id": "G46k558dcKxa"
      },
      "source": [
        "values = df_new.values\n",
        "n_train_time = len(df_new) * 0.9\n",
        "train = values[:225, :]\n",
        "test = values[225:, :]\n",
        "train_x, train_y = train[:, :-1], train[:, -1]\n",
        "test_x, test_y = test[:, :-1], test[:, -1]\n",
        "train_x = train_x.reshape((train_x.shape[0], 1, train_x.shape[1]))\n",
        "test_x = test_x.reshape((test_x.shape[0], 1, test_x.shape[1]))"
      ],
      "execution_count": 121,
      "outputs": []
    },
    {
      "cell_type": "markdown",
      "metadata": {
        "id": "OY38vZAc-zB6"
      },
      "source": [
        ""
      ]
    },
    {
      "cell_type": "code",
      "metadata": {
        "colab": {
          "base_uri": "https://localhost:8080/"
        },
        "id": "WeGQUAPYxN-i",
        "outputId": "954fc479-1ee6-4220-9fec-86d1b29fc9b2"
      },
      "source": [
        "test_x.shape"
      ],
      "execution_count": 104,
      "outputs": [
        {
          "output_type": "execute_result",
          "data": {
            "text/plain": [
              "(26, 1, 4)"
            ]
          },
          "metadata": {
            "tags": []
          },
          "execution_count": 104
        }
      ]
    },
    {
      "cell_type": "code",
      "metadata": {
        "colab": {
          "base_uri": "https://localhost:8080/",
          "height": 1000
        },
        "id": "ei95Y-Sxkic7",
        "outputId": "313be22c-7811-4f5a-bdd7-281a32f737da"
      },
      "source": [
        "model = Sequential()\n",
        "model.add(LSTM(100, input_shape=(train_x.shape[1], train_x.shape[2])))\n",
        "model.add(Dropout(0.2))\n",
        "#    model.add(LSTM(70))\n",
        "#    model.add(Dropout(0.3))\n",
        "model.add(Dense(1))\n",
        "model.compile(loss='mean_squared_error', optimizer='adam')\n",
        "\n",
        "# fit network\n",
        "history = model.fit(train_x, train_y, epochs=30, batch_size=12, validation_data=(test_x, test_y), verbose=2, shuffle=False)\n",
        "\n",
        "# summarize history for loss\n",
        "plt.plot(history.history['loss'])\n",
        "plt.plot(history.history['val_loss'])\n",
        "plt.title('model loss')\n",
        "plt.ylabel('loss')\n",
        "plt.xlabel('epoch')\n",
        "plt.legend(['train', 'test'], loc='upper right')\n",
        "plt.show()\n",
        "\n",
        "# make a prediction\n",
        "yhat = model.predict(test_x)\n",
        "test_x = test_x.reshape((test_x.shape[0], 4))\n",
        "# invert scaling for forecast\n",
        "inv_yhat = np.concatenate((yhat, test_x[:, -3:]), axis=1)\n",
        "inv_yhat = scaler.inverse_transform(inv_yhat)\n",
        "inv_yhat = inv_yhat[:,0]\n",
        "# invert scaling for actual\n",
        "test_y = test_y.reshape((len(test_y), 1))\n",
        "inv_y = np.concatenate((test_y, test_x[:, -3:]), axis=1)\n",
        "inv_y = scaler.inverse_transform(inv_y)\n",
        "inv_y = inv_y[:,0]\n",
        "# calculate RMSE\n",
        "rmse = np.sqrt(mean_squared_error(inv_y, inv_yhat))\n",
        "print('Test RMSE: %.3f' % rmse)\n",
        "\n"
      ],
      "execution_count": 122,
      "outputs": [
        {
          "output_type": "stream",
          "text": [
            "Epoch 1/30\n",
            "19/19 - 2s - loss: 0.4079 - val_loss: 0.0750\n",
            "Epoch 2/30\n",
            "19/19 - 0s - loss: 0.1484 - val_loss: 0.0124\n",
            "Epoch 3/30\n",
            "19/19 - 0s - loss: 0.0279 - val_loss: 0.0036\n",
            "Epoch 4/30\n",
            "19/19 - 0s - loss: 0.0044 - val_loss: 0.0062\n",
            "Epoch 5/30\n",
            "19/19 - 0s - loss: 0.0038 - val_loss: 0.0044\n",
            "Epoch 6/30\n",
            "19/19 - 0s - loss: 0.0042 - val_loss: 0.0040\n",
            "Epoch 7/30\n",
            "19/19 - 0s - loss: 0.0036 - val_loss: 0.0038\n",
            "Epoch 8/30\n",
            "19/19 - 0s - loss: 0.0036 - val_loss: 0.0038\n",
            "Epoch 9/30\n",
            "19/19 - 0s - loss: 0.0035 - val_loss: 0.0035\n",
            "Epoch 10/30\n",
            "19/19 - 0s - loss: 0.0030 - val_loss: 0.0036\n",
            "Epoch 11/30\n",
            "19/19 - 0s - loss: 0.0040 - val_loss: 0.0037\n",
            "Epoch 12/30\n",
            "19/19 - 0s - loss: 0.0033 - val_loss: 0.0035\n",
            "Epoch 13/30\n",
            "19/19 - 0s - loss: 0.0036 - val_loss: 0.0033\n",
            "Epoch 14/30\n",
            "19/19 - 0s - loss: 0.0033 - val_loss: 0.0033\n",
            "Epoch 15/30\n",
            "19/19 - 0s - loss: 0.0032 - val_loss: 0.0033\n",
            "Epoch 16/30\n",
            "19/19 - 0s - loss: 0.0037 - val_loss: 0.0031\n",
            "Epoch 17/30\n",
            "19/19 - 0s - loss: 0.0037 - val_loss: 0.0025\n",
            "Epoch 18/30\n",
            "19/19 - 0s - loss: 0.0036 - val_loss: 0.0032\n",
            "Epoch 19/30\n",
            "19/19 - 0s - loss: 0.0031 - val_loss: 0.0023\n",
            "Epoch 20/30\n",
            "19/19 - 0s - loss: 0.0039 - val_loss: 0.0026\n",
            "Epoch 21/30\n",
            "19/19 - 0s - loss: 0.0033 - val_loss: 0.0023\n",
            "Epoch 22/30\n",
            "19/19 - 0s - loss: 0.0041 - val_loss: 0.0030\n",
            "Epoch 23/30\n",
            "19/19 - 0s - loss: 0.0032 - val_loss: 0.0022\n",
            "Epoch 24/30\n",
            "19/19 - 0s - loss: 0.0034 - val_loss: 0.0023\n",
            "Epoch 25/30\n",
            "19/19 - 0s - loss: 0.0029 - val_loss: 0.0025\n",
            "Epoch 26/30\n",
            "19/19 - 0s - loss: 0.0029 - val_loss: 0.0021\n",
            "Epoch 27/30\n",
            "19/19 - 0s - loss: 0.0031 - val_loss: 0.0024\n",
            "Epoch 28/30\n",
            "19/19 - 0s - loss: 0.0034 - val_loss: 0.0020\n",
            "Epoch 29/30\n",
            "19/19 - 0s - loss: 0.0034 - val_loss: 0.0021\n",
            "Epoch 30/30\n",
            "19/19 - 0s - loss: 0.0031 - val_loss: 0.0017\n"
          ],
          "name": "stdout"
        },
        {
          "output_type": "display_data",
          "data": {
            "image/png": "[encoded data removed]",
            "text/plain": [
              "<Figure size 432x288 with 1 Axes>"
            ]
          },
          "metadata": {
            "tags": [],
            "needs_background": "light"
          }
        },
        {
          "output_type": "stream",
          "text": [
            "WARNING:tensorflow:11 out of the last 11 calls to <function Model.make_predict_function.<locals>.predict_function at 0x7f65fd5ea5f0> triggered tf.function retracing. Tracing is expensive and the excessive number of tracings could be due to (1) creating @tf.function repeatedly in a loop, (2) passing tensors with different shapes, (3) passing Python objects instead of tensors. For (1), please define your @tf.function outside of the loop. For (2), @tf.function has experimental_relax_shapes=True option that relaxes argument shapes that can avoid unnecessary retracing. For (3), please refer to https://www.tensorflow.org/guide/function#controlling_retracing and https://www.tensorflow.org/api_docs/python/tf/function for  more details.\n",
            "Test RMSE: 2850340.423\n"
          ],
          "name": "stdout"
        }
      ]
    },
    {
      "cell_type": "code",
      "metadata": {
        "colab": {
          "base_uri": "https://localhost:8080/",
          "height": 172
        },
        "id": "8XOkFMN1AUSn",
        "outputId": "7c8eb62b-b6cf-4258-8a53-d55f0056e6a1"
      },
      "source": [
        "model.acc"
      ],
      "execution_count": 147,
      "outputs": [
        {
          "output_type": "error",
          "ename": "AttributeError",
          "evalue": "ignored",
          "traceback": [
            "\u001b[0;31m---------------------------------------------------------------------------\u001b[0m",
            "\u001b[0;31mAttributeError\u001b[0m                            Traceback (most recent call last)",
            "\u001b[0;32m<ipython-input-147-7f06531a460a>\u001b[0m in \u001b[0;36m<module>\u001b[0;34m()\u001b[0m\n\u001b[0;32m----> 1\u001b[0;31m \u001b[0mmodel\u001b[0m\u001b[0;34m.\u001b[0m\u001b[0macc\u001b[0m\u001b[0;34m\u001b[0m\u001b[0;34m\u001b[0m\u001b[0m\n\u001b[0m",
            "\u001b[0;31mAttributeError\u001b[0m: 'Sequential' object has no attribute 'acc'"
          ]
        }
      ]
    },
    {
      "cell_type": "code",
      "metadata": {
        "colab": {
          "base_uri": "https://localhost:8080/",
          "height": 295
        },
        "id": "guwpTowg8YKM",
        "outputId": "092b0ef0-5f1b-41a5-daaf-a49c81954ce6"
      },
      "source": [
        "train_x = train_x.reshape((train_x.shape[0], 4))\n",
        "# invert scaling for actual\n",
        "train_y = train_y.reshape((len(train_y), 1))\n",
        "act_y = np.concatenate((train_y, train_x[:, -3:]), axis=1)\n",
        "act_y = scaler.inverse_transform(act_y)\n",
        "act_y = act_y[:,0]\n",
        "\n",
        "aa=[x for x in range(225)]\n",
        "plt.plot(aa, act_y[:225], marker='.', label=\"actual\")\n",
        "\n",
        "aa=[x for x in range(225,251)]\n",
        "#plt.plot(aa, act_y[:225], marker='.', label=\"actual\")\n",
        "plt.plot(aa, inv_y[:27], marker='.', label=\"actual\")\n",
        "plt.plot(aa, inv_yhat[:27], 'r', label=\"prediction\")\n",
        "plt.ylabel('revenue ', size=15)\n",
        "plt.xlabel('Time step', size=15)\n",
        "plt.legend(fontsize=15)\n",
        "plt.show()\n",
        "\n"
      ],
      "execution_count": 144,
      "outputs": [
        {
          "output_type": "display_data",
          "data": {
            "image/png": "[encoded data removed]",
            "text/plain": [
              "<Figure size 432x288 with 1 Axes>"
            ]
          },
          "metadata": {
            "tags": [],
            "needs_background": "light"
          }
        }
      ]
    },
    {
      "cell_type": "code",
      "metadata": {
        "colab": {
          "base_uri": "https://localhost:8080/"
        },
        "id": "GDXaahCsuuuJ",
        "outputId": "eb49678b-85f4-4f0b-c6c6-c253b3b63d73"
      },
      "source": [
        "inv_yhat"
      ],
      "execution_count": 75,
      "outputs": [
        {
          "output_type": "execute_result",
          "data": {
            "text/plain": [
              "array([4.40527229e+08, 4.41043908e+08, 4.40814041e+08, 4.41362880e+08,\n",
              "       4.41361429e+08, 4.41162106e+08, 4.41071933e+08, 4.40873304e+08,\n",
              "       4.40963540e+08, 4.41024743e+08, 4.41073511e+08, 4.41076381e+08,\n",
              "       4.40251743e+08, 4.40258583e+08, 4.38269378e+08, 4.35954927e+08,\n",
              "       4.33640113e+08, 4.31376048e+08, 4.29115448e+08, 4.26892057e+08,\n",
              "       4.24705321e+08, 4.22567973e+08, 4.20448157e+08, 4.18360036e+08,\n",
              "       4.16318739e+08, 4.14291236e+08])"
            ]
          },
          "metadata": {
            "tags": []
          },
          "execution_count": 75
        }
      ]
    },
    {
      "cell_type": "code",
      "metadata": {
        "id": "hgY2JhmFk4zz"
      },
      "source": [
        ""
      ],
      "execution_count": null,
      "outputs": []
    }
  ]
}